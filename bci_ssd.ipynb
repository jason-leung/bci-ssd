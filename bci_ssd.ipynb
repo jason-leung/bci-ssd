{
 "cells": [
  {
   "cell_type": "markdown",
   "metadata": {
    "colab_type": "text",
    "id": "2hEFFhNUAzxS"
   },
   "source": [
    "BCI Sample Size Determination (SSD)"
   ]
  },
  {
   "cell_type": "code",
   "execution_count": null,
   "metadata": {
    "colab": {},
    "colab_type": "code",
    "id": "PHNynl6mD3l9"
   },
   "outputs": [],
   "source": [
    "import numpy as np\n",
    "import pandas as pd\n",
    "import pymc3 as pm\n",
    "from scipy import special\n",
    "\n",
    "import matplotlib.pyplot as plt\n",
    "%matplotlib inline"
   ]
  },
  {
   "cell_type": "code",
   "execution_count": null,
   "metadata": {
    "colab": {},
    "colab_type": "code",
    "id": "U1ofKEsyefrv"
   },
   "outputs": [],
   "source": [
    "# M = 5 # iterations\n",
    "# Ns = [4, 8, 12, 16, 20] # number of subjects\n",
    "# Ts = [20, 36, 65] # number of trials\n",
    "\n",
    "M = 1 # iterations\n",
    "n_subjects = [4] # number of subjects\n",
    "n_trials = [20] # number of trials\n",
    "\n",
    "n_samples = 5000\n",
    "n_chains = 3\n",
    "n_tune = 500"
   ]
  },
  {
   "cell_type": "code",
   "execution_count": null,
   "metadata": {
    "colab": {
     "base_uri": "https://localhost:8080/",
     "height": 1000
    },
    "colab_type": "code",
    "id": "-v6WURLTeuCm",
    "outputId": "39befe68-cb90-4e17-c698-471b7a13857b",
    "scrolled": true
   },
   "outputs": [],
   "source": [
    "for Ns in n_subjects:\n",
    "    ALCs = []\n",
    "    for T in n_trials:\n",
    "        ALC = 0\n",
    "        for m in range(M):\n",
    "            print(\"M: \"+str(m)+\"\\t Ns: \"+str(Ns)+\"\\t T: \"+str(T))\n",
    "            \n",
    "            # draw parameters theta hat from sampling prior\n",
    "            # draw dataset D^(n) from sampling distribution\n",
    "            with pm.Model() as model:\n",
    "                # group level parameters - a single value for mean and std\n",
    "                group_level_mean_prob = pm.Uniform('μ_φ', lower=0.55, upper=0.95)\n",
    "                group_level_mean_logit = pm.Deterministic('μ_α', pm.math.logit(group_level_mean_prob))\n",
    "                group_level_std_logit = pm.Uniform('σ_α', lower=0.2, upper=1.2)\n",
    "                \n",
    "                # subject level parameters - a vector of size Ns\n",
    "                subject_level_accuracy_logit = pm.Normal('α', mu=group_level_mean_logit,\n",
    "                                                         sd=group_level_std_logit, shape=Ns)\n",
    "                subject_level_accuracy_prob = pm.Deterministic('φ', pm.math.invlogit(subject_level_accuracy_logit))\n",
    "                \n",
    "                # sample the subject level accuracies\n",
    "                trace = pm.sample(n_samples, chains=n_chains, tune=n_tune, discard_tuned_samples=True)\n",
    "            \n",
    "            # compute delta(D^(n)) using Baye's rule (via MCMC)\n",
    "            # generate data for each subject\n",
    "            trace_np = pd.DataFrame(trace['α']).to_numpy() # 15000 x Ns array of subject-level accuracies\n",
    "#             data = np.empty([n_samples*n_chains, Ns])\n",
    "#             for i in range(trace_np.shape[0]):\n",
    "#                 for j in range(trace_np.shape[1]):\n",
    "#                     # draw from a binomial distribution given phi and T\n",
    "#                     y = pm.Binomial.dist(n=T, p=subject_accuracy)\n",
    "#                     # calculate the accuracy across all trials\n",
    "#                     data[i,j] = np.mean(y.random(size=T) / T)\n",
    "            \n",
    "            # take mean across all Ns subjects --> vector of 15000\n",
    "            group_level_mean_logit_hat = np.mean(trace_np, axis=1)\n",
    "            # compute 95% CI\n",
    "            delta = np.percentile(group_level_mean_logit_hat, 97.5) - np.percentile(group_level_mean_logit_hat, 2.5)\n",
    "            print(\"delta:\", delta)\n",
    "\n",
    "            # approximate ALC\n",
    "            ALC += delta\n",
    "        ALC /= M\n",
    "        print(\"ALC:\", ALC)\n",
    "        ALCs.append(ALC)\n",
    "    plt.plot(T, ALCs, marker='x', label='Ns = '+str(Ns))\n",
    "\n",
    "plt.xlabel('Number of trials T')\n",
    "plt.ylabel('Average 95% CI width ALC(n)')\n",
    "plt.legend()\n",
    "plt.show()"
   ]
  },
  {
   "cell_type": "code",
   "execution_count": null,
   "metadata": {},
   "outputs": [],
   "source": [
    "ALCs"
   ]
  },
  {
   "cell_type": "code",
   "execution_count": null,
   "metadata": {},
   "outputs": [],
   "source": [
    "pm.traceplot(trace);"
   ]
  },
  {
   "cell_type": "code",
   "execution_count": null,
   "metadata": {},
   "outputs": [],
   "source": [
    "print(\"55% accuracy = \" + str(special.logit(0.55)))\n",
    "print(\"95% accuracy = \" + str(special.logit(0.95)))\n",
    "print()\n",
    "\n",
    "def print_alc_effect(alc, prob):\n",
    "    print(\"For ALC = \" + str(alc) + \":\")\n",
    "    print(\"CI Range in probability scale for \" + str(round(prob*100)) + \"%\")\n",
    "    print(\"= %.2f - %.2f = %.2f\" % (prob * 100,\n",
    "                                    special.expit(special.logit(prob) - alc) * 100,\n",
    "                                    (prob - special.expit(special.logit(prob) - alc)) * 100))\n",
    "    print()\n",
    "\n",
    "print_alc_effect(3, 0.95)\n",
    "print_alc_effect(3, 0.55)\n",
    "print_alc_effect(1, 0.95)\n",
    "print_alc_effect(1, 0.55)\n",
    "\n",
    "print_alc_effect(ALC, 0.95)\n",
    "print_alc_effect(ALC, 0.55)"
   ]
  },
  {
   "cell_type": "code",
   "execution_count": null,
   "metadata": {},
   "outputs": [],
   "source": [
    "trace_np.shape"
   ]
  },
  {
   "cell_type": "code",
   "execution_count": null,
   "metadata": {},
   "outputs": [],
   "source": [
    "y = pm.Binomial.dist(n=20, p=0.564146)\n",
    "y.random(size=20)"
   ]
  },
  {
   "cell_type": "code",
   "execution_count": null,
   "metadata": {},
   "outputs": [],
   "source": [
    "data = np.empty([n_samples*n_chains, Ns])\n",
    "for i in range(trace_np.shape[0]):\n",
    "    for j in range(trace_np.shape[1]):\n",
    "        # draw from a binomial distribution given phi and T\n",
    "        y = pm.Binomial.dist(n=T, p=0.564146)\n",
    "        # calculate the accuracy across all trials\n",
    "        data[i,j] = np.mean(y.random(size=T) / T)"
   ]
  }
 ],
 "metadata": {
  "colab": {
   "collapsed_sections": [],
   "name": "BCI Sample Size Determination_NEW",
   "provenance": []
  },
  "kernelspec": {
   "display_name": "Python 3",
   "language": "python",
   "name": "python3"
  },
  "language_info": {
   "codemirror_mode": {
    "name": "ipython",
    "version": 3
   },
   "file_extension": ".py",
   "mimetype": "text/x-python",
   "name": "python",
   "nbconvert_exporter": "python",
   "pygments_lexer": "ipython3",
   "version": "3.7.4"
  }
 },
 "nbformat": 4,
 "nbformat_minor": 1
}
